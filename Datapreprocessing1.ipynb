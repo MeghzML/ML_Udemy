{
  "nbformat": 4,
  "nbformat_minor": 0,
  "metadata": {
    "colab": {
      "provenance": [],
      "authorship_tag": "ABX9TyMQZie6naYb2AAZ2OYP0ZMj",
      "include_colab_link": true
    },
    "kernelspec": {
      "name": "python3",
      "display_name": "Python 3"
    },
    "language_info": {
      "name": "python"
    }
  },
  "cells": [
    {
      "cell_type": "markdown",
      "metadata": {
        "id": "view-in-github",
        "colab_type": "text"
      },
      "source": [
        "<a href=\"https://colab.research.google.com/github/MeghzML/ML_Udemy/blob/DataPreprocessing/Datapreprocessing1.ipynb\" target=\"_parent\"><img src=\"https://colab.research.google.com/assets/colab-badge.svg\" alt=\"Open In Colab\"/></a>"
      ]
    },
    {
      "cell_type": "code",
      "execution_count": null,
      "metadata": {
        "id": "0A3IXZZbed_m"
      },
      "outputs": [],
      "source": [
        "#import libraries\n",
        "import pandas as pd\n",
        "import numpy as np\n",
        "import matplotlib.pyplot as plt"
      ]
    },
    {
      "cell_type": "code",
      "source": [
        "#import datasets\n",
        "df = pd.read_csv('Data.csv')\n",
        "X=df.iloc[:,:-1].values #except last column\n",
        "Y=df.iloc[:,-1].values #only last column"
      ],
      "metadata": {
        "id": "Pe4OoNUXerRm"
      },
      "execution_count": null,
      "outputs": []
    },
    {
      "cell_type": "code",
      "source": [
        "#Data Cleaning/Taking care of missing data and feature scaling\n",
        "from sklearn.impute import SimpleImputer\n",
        "imputer = SimpleImputer(missing_values=np.nan,strategy='mean')\n",
        "imputer.fit(X[:,1:3])#need to fit using the means in first 3 columns\n",
        "X[:,1:3]=imputer.transform(X[:,1:3])#replace the nan with the calculated mean and hence transform\n",
        "print(X)\n",
        "print('-------------------------------------------------')\n",
        "print('--------Independent Variable transformer---------')\n",
        "print('-------------------------------------------------')\n",
        "#Further cleaning/formatting the data - encoding the independent and dependent variables\n",
        "from sklearn.compose import ColumnTransformer\n",
        "from sklearn.preprocessing import OneHotEncoder\n",
        "ct = ColumnTransformer(transformers=[('encoder', OneHotEncoder(), [0])], remainder='passthrough')\n",
        "X = np.array(ct.fit_transform(X))\n",
        "print(X)\n",
        "print('-----------------------------------------------------')\n",
        "print('--------Dependent Variable/Label transformer---------')\n",
        "print('-----------------------------------------------------')\n",
        "from sklearn.preprocessing import LabelEncoder\n",
        "le=LabelEncoder()\n",
        "Y=le.fit_transform(Y)\n",
        "print(Y)"
      ],
      "metadata": {
        "id": "Flbd-K0Bfj-5"
      },
      "execution_count": null,
      "outputs": []
    },
    {
      "cell_type": "code",
      "source": [
        "#Split Data into train and test set\n",
        "from sklearn.model_selection import train_test_split\n",
        "X_train,X_test,Y_train,Y_test=train_test_split(X,Y,test_size=0.2,random_state=1)\n",
        "\n",
        "print('X_train:')\n",
        "print(X_train)\n",
        "print('X_test:')\n",
        "print(X_test)\n",
        "print('Y_train:')\n",
        "print(Y_train)\n",
        "print('Y_test:')\n",
        "print(Y_test)\n",
        "#see the result, since there are 10 samples, 8 are there in train indicating 80% of training data"
      ],
      "metadata": {
        "id": "DVpyV842gzM3"
      },
      "execution_count": null,
      "outputs": []
    },
    {
      "cell_type": "code",
      "source": [
        "#Feature Scaling\n",
        "from sklearn.preprocessing import StandardScaler\n",
        "sc=StandardScaler()\n",
        "X_train[:,3:]=sc.fit_transform(X_train[:,3:])\n",
        "X_test[:,3:]=sc.fit_transform(X_test[:,3:])\n",
        "print('X_train')\n",
        "print(X_train)\n",
        "print('X_test')\n",
        "print(X_test)"
      ],
      "metadata": {
        "id": "2iDJOfmqwDKL"
      },
      "execution_count": null,
      "outputs": []
    }
  ]
}