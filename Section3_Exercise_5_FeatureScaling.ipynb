{
  "nbformat": 4,
  "nbformat_minor": 0,
  "metadata": {
    "colab": {
      "provenance": [],
      "authorship_tag": "ABX9TyP1/iBmNUKlVD/rr4HqzoKh",
      "include_colab_link": true
    },
    "kernelspec": {
      "name": "python3",
      "display_name": "Python 3"
    },
    "language_info": {
      "name": "python"
    }
  },
  "cells": [
    {
      "cell_type": "markdown",
      "metadata": {
        "id": "view-in-github",
        "colab_type": "text"
      },
      "source": [
        "<a href=\"https://colab.research.google.com/github/MeghzML/ML_Udemy/blob/DataPreprocessing/Section3_Exercise_5_FeatureScaling.ipynb\" target=\"_parent\"><img src=\"https://colab.research.google.com/assets/colab-badge.svg\" alt=\"Open In Colab\"/></a>"
      ]
    },
    {
      "cell_type": "code",
      "execution_count": null,
      "metadata": {
        "id": "UcFS-kPjKCoV"
      },
      "outputs": [],
      "source": [
        "#Sample Data\n",
        "\"fixed acidity\";\"volatile acidity\";\"citric acid\";\"residual sugar\";\"chlorides\";\"free sulfur dioxide\";\"total sulfur dioxide\";\"density\";\"pH\";\"sulphates\";\"alcohol\";\"quality\"\n",
        "7.4;0.7;0;1.9;0.076;11;34;0.9978;3.51;0.56;9.4;5\n",
        "7.8;0.88;0;2.6;0.098;25;67;0.9968;3.2;0.68;9.8;5\n",
        "7.8;0.76;0.04;2.3;0.092;15;54;0.997;3.26;0.65;9.8;5\n",
        "11.2;0.28;0.56;1.9;0.075;17;60;0.998;3.16;0.58;9.8;6\n",
        "7.4;0.7;0;1.9;0.076;11;34;0.9978;3.51;0.56;9.4;5\n",
        "7.4;0.66;0;1.8;0.075;13;40;0.9978;3.51;0.56;9.4;5\n",
        "7.9;0.6;0.06;1.6;0.069;15;59;0.9964;3.3;0.46;9.4;5"
      ]
    },
    {
      "cell_type": "code",
      "source": [
        "# Import necessary libraries\n",
        "import pandas as pd\n",
        "from sklearn.model_selection import train_test_split\n",
        "from sklearn.preprocessing import StandardScaler"
      ],
      "metadata": {
        "id": "GqInlD_vKX_H"
      },
      "execution_count": null,
      "outputs": []
    },
    {
      "cell_type": "code",
      "source": [
        "# Load the Wine Quality Red dataset\n",
        "df = pd.read_csv('winequality-red.csv')#, delimiter=';')"
      ],
      "metadata": {
        "id": "GUPvxtsiKDjh"
      },
      "execution_count": null,
      "outputs": []
    },
    {
      "cell_type": "code",
      "source": [
        "# Separate features and target\n",
        "X = df.drop('quality', axis=1)\n",
        "y = df['quality']"
      ],
      "metadata": {
        "id": "UPv9V_FaKEI-"
      },
      "execution_count": null,
      "outputs": []
    },
    {
      "cell_type": "code",
      "source": [
        "# Split the dataset into an 80-20 training-test set\n",
        "X_train, X_test, y_train, y_test = train_test_split(X, y, test_size=0.2, random_state=42)"
      ],
      "metadata": {
        "id": "R4xcp9gaKEPN"
      },
      "execution_count": null,
      "outputs": []
    },
    {
      "cell_type": "code",
      "source": [
        "# Create an instance of the StandardScaler class\n",
        "sc = StandardScaler()"
      ],
      "metadata": {
        "id": "2vUmDBfEKEUL"
      },
      "execution_count": null,
      "outputs": []
    },
    {
      "cell_type": "code",
      "source": [
        "# Fit the StandardScaler on the features from the training set and transform it\n",
        "X_train = sc.fit_transform(X_train)"
      ],
      "metadata": {
        "id": "lbLAZjwdKEZH"
      },
      "execution_count": null,
      "outputs": []
    },
    {
      "cell_type": "code",
      "source": [
        "# Apply the transform to the test set\n",
        "X_test = sc.transform(X_test)"
      ],
      "metadata": {
        "id": "BkdyLpvhKEf3"
      },
      "execution_count": null,
      "outputs": []
    },
    {
      "cell_type": "code",
      "source": [
        "# Print the scaled training and test datasets\n",
        "print(\"Scaled training set:\\n\", X_train)\n",
        "print(\"Scaled test set:\\n\", X_test)"
      ],
      "metadata": {
        "colab": {
          "base_uri": "https://localhost:8080/"
        },
        "id": "DAO3yXU3KEkD",
        "outputId": "d31ae74e-ab43-4fa7-d37f-2e3930644408"
      },
      "execution_count": null,
      "outputs": [
        {
          "output_type": "stream",
          "name": "stdout",
          "text": [
            "Scaled training set:\n",
            " [[ 0.21833164  0.88971201  0.19209222 ...  1.09349989  0.45822284\n",
            "   1.12317723]\n",
            " [-1.29016623 -1.78878251  0.65275338 ... -0.40043872 -0.40119696\n",
            "   1.40827174]\n",
            " [ 1.49475291 -0.78434707  1.01104539 ... -0.07566946  0.51551749\n",
            "  -0.58738978]\n",
            " ...\n",
            " [-0.65195559  0.49909822 -1.08752211 ...  1.28836145 -0.68767023\n",
            "  -0.87248428]\n",
            " [-0.24582155 -1.84458448  0.39683051 ...  0.05423824  0.80199076\n",
            "   1.40827174]\n",
            " [-1.46422367 -1.34236676 -0.06383064 ...  0.50891521 -0.68767023\n",
            "   2.92877575]]\n",
            "Scaled test set:\n",
            " [[-3.61859850e-01  1.64286407e-01 -9.85152962e-01 ... -4.65392578e-01\n",
            "  -1.34389336e-04 -7.77452782e-01]\n",
            " [-3.03840702e-01 -1.70525408e-01 -5.24491803e-01 ...  5.08915214e-01\n",
            "  -1.03143815e+00 -8.72484283e-01]\n",
            " [ 1.37871461e+00  7.78108067e-01 -2.68568937e-01 ... -2.05577167e-01\n",
            "   1.83329452e+00 -4.92358280e-01]\n",
            " ...\n",
            " [-1.37449586e-02  3.87494284e-01 -1.15015218e-01 ... -1.04997725e+00\n",
            "  -7.44964886e-01 -5.87389780e-01]\n",
            " [ 2.76350785e-01 -1.45397070e+00  6.01568807e-01 ... -1.04997725e+00\n",
            "   1.71749571e-01  7.43051230e-01]\n",
            " [ 4.50408230e-01  1.30822677e+00 -1.18989125e+00 ... -1.40623314e-01\n",
            "  -6.87670232e-01 -6.82421281e-01]]\n"
          ]
        }
      ]
    }
  ]
}