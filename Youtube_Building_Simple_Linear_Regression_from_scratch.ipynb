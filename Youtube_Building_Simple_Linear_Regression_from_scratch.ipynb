{
  "nbformat": 4,
  "nbformat_minor": 0,
  "metadata": {
    "colab": {
      "provenance": [],
      "authorship_tag": "ABX9TyPQj0I8hrt9UDTU0pfBCy5r",
      "include_colab_link": true
    },
    "kernelspec": {
      "name": "python3",
      "display_name": "Python 3"
    },
    "language_info": {
      "name": "python"
    }
  },
  "cells": [
    {
      "cell_type": "markdown",
      "metadata": {
        "id": "view-in-github",
        "colab_type": "text"
      },
      "source": [
        "<a href=\"https://colab.research.google.com/github/MeghzML/ML_Udemy/blob/Regression/Youtube_Building_Simple_Linear_Regression_from_scratch.ipynb\" target=\"_parent\"><img src=\"https://colab.research.google.com/assets/colab-badge.svg\" alt=\"Open In Colab\"/></a>"
      ]
    },
    {
      "cell_type": "code",
      "execution_count": null,
      "metadata": {
        "id": "UMehmTq369nm"
      },
      "outputs": [],
      "source": [
        "#Building Simple Linear Regression from scratch\n",
        "#https://www.youtube.com/watch?v=VmbA0pi2cRQ&ab_channel=NeuralNine"
      ]
    },
    {
      "cell_type": "code",
      "source": [
        "import pandas as pd\n",
        "import matplotlib.pyplot as plt\n",
        "\n",
        "df = pd.read_csv('Salary_Data.csv')\n",
        "print(df)\n",
        "plt.scatter(df.YearsExperience,df.Salary)\n",
        "plt.show()"
      ],
      "metadata": {
        "id": "IR3q1GLA7FHf"
      },
      "execution_count": null,
      "outputs": []
    },
    {
      "cell_type": "code",
      "source": [
        "#optional to have this, maily for understading step by step\n",
        "def loss_function(m,b,points):\n",
        "  total_error=0\n",
        "  for i in range(len(points)):\n",
        "    x=points.iloc[i].YearsExperience\n",
        "    y=points.iloc[i].Salary\n",
        "    total_error+=(y-(m*x+b))**2\n",
        "  total_error/float(len(points))"
      ],
      "metadata": {
        "id": "eQ9kwFC-704w"
      },
      "execution_count": 8,
      "outputs": []
    },
    {
      "cell_type": "code",
      "source": [
        "def gradient_descent(m_now,b_now,points,L):\n",
        "  m_gradient= 0\n",
        "  b_gradient= 0\n",
        "\n",
        "  n=len(points)\n",
        "\n",
        "  for i in range(n):\n",
        "    x=points.iloc[i].YearsExperience\n",
        "    y=points.iloc[i].Salary\n",
        "\n",
        "    m_gradient=-(2/n)*x*(y-(m_now*x+b_now))\n",
        "    b_gradient=-(2/n)*(y-(m_now*x+b_now))\n",
        "  m=m_now-m_gradient*L\n",
        "  b=m_now-m_gradient*L\n",
        "  return m,b"
      ],
      "metadata": {
        "id": "tAYsavuj9GAK"
      },
      "execution_count": 19,
      "outputs": []
    },
    {
      "cell_type": "code",
      "source": [
        "m=0\n",
        "b=0\n",
        "L=0.0001#Learning Rate-higher it is, more detailed is the learning\n",
        "epochs=10000 #epochs=interations\n",
        "\n",
        "for i in range(epochs):\n",
        "  if i%50==0:\n",
        "    print(f\"Epoch:{i}\")\n",
        "  m, b=gradient_descent(m,b,df,L)\n",
        "\n",
        "print(m,b)\n",
        "\n",
        "plt.scatter(df.YearsExperience,df.Salary,color=\"black\")\n",
        "plt.plot(list(range(2,8)),[m*x+b for x in range(2,8)],color=\"red\")#2,8 as that is the range in which most of the x axis points fall. Here line is nottoo good, due to less data.\n",
        "plt.show()"
      ],
      "metadata": {
        "id": "2u_Dj2uQ98-J"
      },
      "execution_count": null,
      "outputs": []
    }
  ]
}